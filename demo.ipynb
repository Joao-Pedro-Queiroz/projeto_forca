{
 "cells": [
  {
   "cell_type": "markdown",
   "metadata": {},
   "source": [
    "# Projeto Jogador de Forca"
   ]
  },
  {
   "cell_type": "markdown",
   "metadata": {},
   "source": [
    "## Importações"
   ]
  },
  {
   "cell_type": "markdown",
   "metadata": {},
   "source": [
    "Importa bibliotecas como random, matplotlib, numpy, scipy, e requests, essenciais para funcionalidades de geração de números aleatórios, visualização de dados, cálculo de estatísticas, e obtenção de dados externos."
   ]
  },
  {
   "cell_type": "code",
   "execution_count": 2,
   "metadata": {},
   "outputs": [],
   "source": [
    "import random\n",
    "import matplotlib.pyplot as plt\n",
    "import numpy as np\n",
    "import scipy.stats as stats\n",
    "import requests"
   ]
  },
  {
   "cell_type": "markdown",
   "metadata": {},
   "source": [
    "## Funções importantes"
   ]
  },
  {
   "cell_type": "markdown",
   "metadata": {},
   "source": [
    "Implementa uma árvore de Huffman para compressão, calculando a frequência de cada caractere no texto para otimizar o armazenamento. Pode ser usada para codificar e decodificar palavras."
   ]
  },
  {
   "cell_type": "code",
   "execution_count": 3,
   "metadata": {},
   "outputs": [],
   "source": [
    "def huffman_tree(texto : str):\n",
    "    \"\"\"Monta a arvore de codificacao usando o algoritmo de huffman\"\"\"\n",
    "    def get_prob(item):\n",
    "        return item['prob']\n",
    "\n",
    "    f = []\n",
    "\n",
    "    # Calcula probabilidade de cada caractere      \n",
    "    for c in set(texto):\n",
    "        f.append(  {'prob':texto.count(c)/len(texto), 'valor':c} )\n",
    "    f.sort(key=get_prob)\n",
    "    \n",
    "    while len(f) > 1:\n",
    "        c1 = f.pop(0)\n",
    "        c2 = f.pop(0)\n",
    "        novo_node = {'valor':'NAO_FOLHA', 'prob':c1['prob']+c2['prob'], 'filho_0':c1, 'filho_1': c2}\n",
    "        \n",
    "        f.insert(0, novo_node)\n",
    "        f.sort(key=get_prob)\n",
    "\n",
    "    return f[0]"
   ]
  },
  {
   "cell_type": "markdown",
   "metadata": {},
   "source": [
    "## Classe JogoDeForca"
   ]
  },
  {
   "cell_type": "markdown",
   "metadata": {},
   "source": [
    "Define a estrutura principal do jogo, contendo os métodos para inicializar e jogar.\n",
    "\n",
    "Implementa o jogo de forca, incluindo métodos para iniciar um novo jogo, verificar letras, e fazer tentativas de adivinhar a palavra, controlando as vidas restantes do jogador."
   ]
  },
  {
   "cell_type": "code",
   "execution_count": 4,
   "metadata": {},
   "outputs": [],
   "source": [
    "class JogoDeForca:\n",
    "    def __init__(self):\n",
    "        url = 'https://www.ime.usp.br/~pf/dicios/br-sem-acentos.txt'\n",
    "        r = requests.get(url, allow_redirects=True)\n",
    "        if r.status_code==200:\n",
    "            self.content = str(r.content.decode()).split('\\n')\n",
    "        else:\n",
    "            print(\"Erro: \", r.status_code)\n",
    "    \n",
    "    def novo_jogo(self, vidas=5):\n",
    "        self.vidas = vidas\n",
    "        self.palavra = random.choice(self.content)\n",
    "        return len(self.palavra)\n",
    "\n",
    "    def tentar_letra(self, letra):\n",
    "        if self.vidas > 0:\n",
    "            if letra in self.palavra:\n",
    "                return [idx for idx in range(len(self.palavra)) if self.palavra[idx]==letra]\n",
    "            else:\n",
    "                self.vidas -= 1\n",
    "                if self.vidas == 0:\n",
    "                    print(\"Fim de jogo!\")\n",
    "                    return False\n",
    "                else:\n",
    "                    return []\n",
    "        \n",
    "    def tentar_palavra(self, palavra):\n",
    "        if self.vidas > 0:\n",
    "            if self.palavra == palavra:\n",
    "                print (\"Ganhou!\")\n",
    "                return True\n",
    "            else:\n",
    "                self.vidas = 0\n",
    "                print(\"Fim de jogo!\")\n",
    "                return False"
   ]
  },
  {
   "cell_type": "markdown",
   "metadata": {},
   "source": [
    "## Testes do Funcionamento do Jogo"
   ]
  },
  {
   "cell_type": "markdown",
   "metadata": {},
   "source": [
    " Introduz os testes que verificam se o jogo de forca está funcionando como esperado.\n",
    "\n",
    "\n",
    " Testa o funcionamento da classe JogoDeForca ao iniciar um jogo, exibir a palavra e o número de vidas, e fazer tentativas de adivinhar letras."
   ]
  },
  {
   "cell_type": "code",
   "execution_count": 5,
   "metadata": {},
   "outputs": [
    {
     "name": "stdout",
     "output_type": "stream",
     "text": [
      "11\n",
      "predefinida\n",
      "5\n",
      "[]\n",
      "[10]\n",
      "[]\n",
      "3\n"
     ]
    }
   ],
   "source": [
    "jogo = JogoDeForca()\n",
    "print(jogo.novo_jogo())\n",
    "print(jogo.palavra)\n",
    "print(jogo.vidas)\n",
    "print(jogo.tentar_letra('b'))\n",
    "print(jogo.tentar_letra('a'))\n",
    "print(jogo.tentar_letra('w'))\n",
    "print(jogo.vidas)"
   ]
  },
  {
   "cell_type": "markdown",
   "metadata": {},
   "source": [
    "## Jogador"
   ]
  },
  {
   "cell_type": "markdown",
   "metadata": {},
   "source": [
    "Define a classe para um jogador que interage com o jogo.\n",
    "\n",
    "\n",
    "Implementa um jogador que utiliza estratégias para adivinhar palavras no jogo de forca. Contém métodos para filtrar palavras, contar a frequência das letras, jogar, e exibir o desempenho com gráficos."
   ]
  },
  {
   "cell_type": "code",
   "execution_count": 6,
   "metadata": {},
   "outputs": [],
   "source": [
    "class Jogador:\n",
    "    def __init__(self, jogo):\n",
    "        self.jogo = jogo\n",
    "        self.vitorias = 0\n",
    "        self.derrotas = 0\n",
    "    \n",
    "    \n",
    "    def filtrar_palavras(self, tamanho, letras_acertadas, letras_erradas):\n",
    "        \"\"\"Filtra palavras candidatas com base no tamanho e no padrão atual de acertos e erros.\"\"\"\n",
    "        palavras_possiveis = [palavra for palavra in self.jogo.content if len(palavra) == tamanho]\n",
    "\n",
    "        for i, letra in enumerate(letras_acertadas):\n",
    "            if letra != '_':\n",
    "                palavras_possiveis = [p for p in palavras_possiveis if p[i] == letra]\n",
    "        \n",
    "        palavras_possiveis = [p for p in palavras_possiveis if all(letra not in p for letra in letras_erradas)]\n",
    "        \n",
    "        return palavras_possiveis\n",
    "    \n",
    "\n",
    "    def contar_frequencia_letras(self, palavras, letras_excluidas):\n",
    "        \"\"\"Conta a frequência das letras nas palavras candidatas, excluindo letras já tentadas.\"\"\"\n",
    "        frequencias = {}\n",
    "        for palavra in palavras:\n",
    "            for letra in palavra:\n",
    "                if letra not in letras_excluidas:\n",
    "                    frequencias[letra] = frequencias.get(letra, 0) + 1\n",
    "        \n",
    "        return sorted(frequencias, key=frequencias.get, reverse=True)\n",
    "    \n",
    "\n",
    "    def jogar(self, tentativas=100):\n",
    "        for _ in range(tentativas):\n",
    "            tamanho_palavra = self.jogo.novo_jogo()\n",
    "            letras_acertadas = ['_'] * tamanho_palavra\n",
    "            letras_tentadas = set()\n",
    "            letras_erradas = set()\n",
    "            venceu = False\n",
    "            \n",
    "            while self.jogo.vidas > 0:\n",
    "                palavras_candidatas = self.filtrar_palavras(tamanho_palavra, letras_acertadas, letras_erradas)\n",
    "\n",
    "                letras_frequentes = self.contar_frequencia_letras(palavras_candidatas, letras_tentadas)\n",
    "                \n",
    "                if not letras_frequentes:\n",
    "                    break\n",
    "                \n",
    "                letra = letras_frequentes[0]\n",
    "                letras_tentadas.add(letra)\n",
    "                \n",
    "                resultado = self.jogo.tentar_letra(letra)\n",
    "                \n",
    "                if resultado:\n",
    "                    for idx in resultado:\n",
    "                        letras_acertadas[idx] = letra\n",
    "                    if \"_\" not in letras_acertadas:\n",
    "                        venceu = True\n",
    "                        break\n",
    "                else:\n",
    "                    letras_erradas.add(letra)\n",
    "            \n",
    "            if venceu:\n",
    "                self.vitorias += 1\n",
    "            else:\n",
    "                self.derrotas += 1\n",
    "    \n",
    "\n",
    "    def mostrar_resultados(self):\n",
    "        fig, ax = plt.subplots(figsize=(8, 6))\n",
    "        \n",
    "        resultados = ['Vitórias', 'Derrotas']\n",
    "        valores = [self.vitorias, self.derrotas]\n",
    "        cores = ['green', 'red']\n",
    "        \n",
    "        barras = ax.bar(resultados, valores, color=cores, edgecolor='black')\n",
    "        \n",
    "        for barra in barras:\n",
    "            altura = barra.get_height()\n",
    "            ax.annotate(f'{int(altura)}',\n",
    "                        xy=(barra.get_x() + barra.get_width() / 2, altura),\n",
    "                        xytext=(0, 5),\n",
    "                        textcoords=\"offset points\",\n",
    "                        ha='center', va='bottom', fontsize=12, fontweight='bold')\n",
    "        \n",
    "        ax.set_xlabel('Resultado', fontsize=14, fontweight='bold')\n",
    "        ax.set_ylabel('Quantidade', fontsize=14, fontweight='bold')\n",
    "        ax.set_title('Desempenho do Jogador no Jogo de Forca', fontsize=16, fontweight='bold')\n",
    "        \n",
    "        plt.show()"
   ]
  },
  {
   "cell_type": "markdown",
   "metadata": {},
   "source": [
    "## Resultados"
   ]
  },
  {
   "cell_type": "markdown",
   "metadata": {},
   "source": [
    "Define a célula que exibe os resultados finais do jogo após várias tentativas.\n",
    "\n",
    "\n",
    "Cria uma instância do jogo e do jogador, inicia o jogo com várias rodadas, e exibe os resultados finais em um gráfico de barras, visualizando as vitórias e derrotas."
   ]
  },
  {
   "cell_type": "code",
   "execution_count": 8,
   "metadata": {},
   "outputs": [
    {
     "name": "stdout",
     "output_type": "stream",
     "text": [
      "Fim de jogo!\n",
      "Fim de jogo!\n",
      "Fim de jogo!\n",
      "Fim de jogo!\n",
      "Fim de jogo!\n",
      "Fim de jogo!\n",
      "Fim de jogo!\n",
      "Fim de jogo!\n",
      "Fim de jogo!\n",
      "Fim de jogo!\n",
      "Fim de jogo!\n",
      "Fim de jogo!\n"
     ]
    },
    {
     "data": {
      "image/png": "[encoded data removed]",
      "text/plain": [
       "<Figure size 800x600 with 1 Axes>"
      ]
     },
     "metadata": {},
     "output_type": "display_data"
    }
   ],
   "source": [
    "jogo = JogoDeForca()\n",
    "jogador = Jogador(jogo)\n",
    "jogador.jogar(100)\n",
    "jogador.mostrar_resultados()"
   ]
  }
 ],
 "metadata": {
  "kernelspec": {
   "display_name": ".venv",
   "language": "python",
   "name": "python3"
  },
  "language_info": {
   "codemirror_mode": {
    "name": "ipython",
    "version": 3
   },
   "file_extension": ".py",
   "mimetype": "text/x-python",
   "name": "python",
   "nbconvert_exporter": "python",
   "pygments_lexer": "ipython3",
   "version": "3.12.7"
  }
 },
 "nbformat": 4,
 "nbformat_minor": 2
}
